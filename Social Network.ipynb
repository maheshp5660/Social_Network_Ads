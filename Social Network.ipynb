{
 "cells": [
  {
   "cell_type": "code",
   "execution_count": 1,
   "id": "4ebfb979-96e3-4a21-aa7a-55dd2c759b52",
   "metadata": {},
   "outputs": [],
   "source": [
    "import pandas as pd\n",
    "import numpy as np\n",
    "import matplotlib.pyplot as plt\n",
    "import seaborn as sns"
   ]
  },
  {
   "cell_type": "code",
   "execution_count": 2,
   "id": "a65e2692-20c9-4394-9875-00bf3eeaf277",
   "metadata": {},
   "outputs": [],
   "source": [
    "df = pd.read_csv('Social_Network_Ads.csv')"
   ]
  },
  {
   "cell_type": "code",
   "execution_count": 3,
   "id": "2733d243-29d0-4fff-9201-ebbd55ab8360",
   "metadata": {},
   "outputs": [
    {
     "data": {
      "text/html": [
       "<div>\n",
       "<style scoped>\n",
       "    .dataframe tbody tr th:only-of-type {\n",
       "        vertical-align: middle;\n",
       "    }\n",
       "\n",
       "    .dataframe tbody tr th {\n",
       "        vertical-align: top;\n",
       "    }\n",
       "\n",
       "    .dataframe thead th {\n",
       "        text-align: right;\n",
       "    }\n",
       "</style>\n",
       "<table border=\"1\" class=\"dataframe\">\n",
       "  <thead>\n",
       "    <tr style=\"text-align: right;\">\n",
       "      <th></th>\n",
       "      <th>User ID</th>\n",
       "      <th>Gender</th>\n",
       "      <th>Age</th>\n",
       "      <th>EstimatedSalary</th>\n",
       "      <th>Purchased</th>\n",
       "    </tr>\n",
       "  </thead>\n",
       "  <tbody>\n",
       "    <tr>\n",
       "      <th>0</th>\n",
       "      <td>15624510</td>\n",
       "      <td>Male</td>\n",
       "      <td>19</td>\n",
       "      <td>19000</td>\n",
       "      <td>0</td>\n",
       "    </tr>\n",
       "    <tr>\n",
       "      <th>1</th>\n",
       "      <td>15810944</td>\n",
       "      <td>Male</td>\n",
       "      <td>35</td>\n",
       "      <td>20000</td>\n",
       "      <td>0</td>\n",
       "    </tr>\n",
       "    <tr>\n",
       "      <th>2</th>\n",
       "      <td>15668575</td>\n",
       "      <td>Female</td>\n",
       "      <td>26</td>\n",
       "      <td>43000</td>\n",
       "      <td>0</td>\n",
       "    </tr>\n",
       "    <tr>\n",
       "      <th>3</th>\n",
       "      <td>15603246</td>\n",
       "      <td>Female</td>\n",
       "      <td>27</td>\n",
       "      <td>57000</td>\n",
       "      <td>0</td>\n",
       "    </tr>\n",
       "    <tr>\n",
       "      <th>4</th>\n",
       "      <td>15804002</td>\n",
       "      <td>Male</td>\n",
       "      <td>19</td>\n",
       "      <td>76000</td>\n",
       "      <td>0</td>\n",
       "    </tr>\n",
       "    <tr>\n",
       "      <th>...</th>\n",
       "      <td>...</td>\n",
       "      <td>...</td>\n",
       "      <td>...</td>\n",
       "      <td>...</td>\n",
       "      <td>...</td>\n",
       "    </tr>\n",
       "    <tr>\n",
       "      <th>395</th>\n",
       "      <td>15691863</td>\n",
       "      <td>Female</td>\n",
       "      <td>46</td>\n",
       "      <td>41000</td>\n",
       "      <td>1</td>\n",
       "    </tr>\n",
       "    <tr>\n",
       "      <th>396</th>\n",
       "      <td>15706071</td>\n",
       "      <td>Male</td>\n",
       "      <td>51</td>\n",
       "      <td>23000</td>\n",
       "      <td>1</td>\n",
       "    </tr>\n",
       "    <tr>\n",
       "      <th>397</th>\n",
       "      <td>15654296</td>\n",
       "      <td>Female</td>\n",
       "      <td>50</td>\n",
       "      <td>20000</td>\n",
       "      <td>1</td>\n",
       "    </tr>\n",
       "    <tr>\n",
       "      <th>398</th>\n",
       "      <td>15755018</td>\n",
       "      <td>Male</td>\n",
       "      <td>36</td>\n",
       "      <td>33000</td>\n",
       "      <td>0</td>\n",
       "    </tr>\n",
       "    <tr>\n",
       "      <th>399</th>\n",
       "      <td>15594041</td>\n",
       "      <td>Female</td>\n",
       "      <td>49</td>\n",
       "      <td>36000</td>\n",
       "      <td>1</td>\n",
       "    </tr>\n",
       "  </tbody>\n",
       "</table>\n",
       "<p>400 rows × 5 columns</p>\n",
       "</div>"
      ],
      "text/plain": [
       "      User ID  Gender  Age  EstimatedSalary  Purchased\n",
       "0    15624510    Male   19            19000          0\n",
       "1    15810944    Male   35            20000          0\n",
       "2    15668575  Female   26            43000          0\n",
       "3    15603246  Female   27            57000          0\n",
       "4    15804002    Male   19            76000          0\n",
       "..        ...     ...  ...              ...        ...\n",
       "395  15691863  Female   46            41000          1\n",
       "396  15706071    Male   51            23000          1\n",
       "397  15654296  Female   50            20000          1\n",
       "398  15755018    Male   36            33000          0\n",
       "399  15594041  Female   49            36000          1\n",
       "\n",
       "[400 rows x 5 columns]"
      ]
     },
     "execution_count": 3,
     "metadata": {},
     "output_type": "execute_result"
    }
   ],
   "source": [
    "df"
   ]
  },
  {
   "cell_type": "code",
   "execution_count": 4,
   "id": "36f806b9-fab9-4111-903e-fc24fc4a3727",
   "metadata": {},
   "outputs": [
    {
     "data": {
      "text/html": [
       "<div>\n",
       "<style scoped>\n",
       "    .dataframe tbody tr th:only-of-type {\n",
       "        vertical-align: middle;\n",
       "    }\n",
       "\n",
       "    .dataframe tbody tr th {\n",
       "        vertical-align: top;\n",
       "    }\n",
       "\n",
       "    .dataframe thead th {\n",
       "        text-align: right;\n",
       "    }\n",
       "</style>\n",
       "<table border=\"1\" class=\"dataframe\">\n",
       "  <thead>\n",
       "    <tr style=\"text-align: right;\">\n",
       "      <th></th>\n",
       "      <th>User ID</th>\n",
       "      <th>Gender</th>\n",
       "      <th>Age</th>\n",
       "      <th>EstimatedSalary</th>\n",
       "      <th>Purchased</th>\n",
       "    </tr>\n",
       "  </thead>\n",
       "  <tbody>\n",
       "    <tr>\n",
       "      <th>0</th>\n",
       "      <td>15624510</td>\n",
       "      <td>Male</td>\n",
       "      <td>19</td>\n",
       "      <td>19000</td>\n",
       "      <td>0</td>\n",
       "    </tr>\n",
       "    <tr>\n",
       "      <th>1</th>\n",
       "      <td>15810944</td>\n",
       "      <td>Male</td>\n",
       "      <td>35</td>\n",
       "      <td>20000</td>\n",
       "      <td>0</td>\n",
       "    </tr>\n",
       "    <tr>\n",
       "      <th>2</th>\n",
       "      <td>15668575</td>\n",
       "      <td>Female</td>\n",
       "      <td>26</td>\n",
       "      <td>43000</td>\n",
       "      <td>0</td>\n",
       "    </tr>\n",
       "    <tr>\n",
       "      <th>3</th>\n",
       "      <td>15603246</td>\n",
       "      <td>Female</td>\n",
       "      <td>27</td>\n",
       "      <td>57000</td>\n",
       "      <td>0</td>\n",
       "    </tr>\n",
       "    <tr>\n",
       "      <th>4</th>\n",
       "      <td>15804002</td>\n",
       "      <td>Male</td>\n",
       "      <td>19</td>\n",
       "      <td>76000</td>\n",
       "      <td>0</td>\n",
       "    </tr>\n",
       "  </tbody>\n",
       "</table>\n",
       "</div>"
      ],
      "text/plain": [
       "    User ID  Gender  Age  EstimatedSalary  Purchased\n",
       "0  15624510    Male   19            19000          0\n",
       "1  15810944    Male   35            20000          0\n",
       "2  15668575  Female   26            43000          0\n",
       "3  15603246  Female   27            57000          0\n",
       "4  15804002    Male   19            76000          0"
      ]
     },
     "execution_count": 4,
     "metadata": {},
     "output_type": "execute_result"
    }
   ],
   "source": [
    "df.head()"
   ]
  },
  {
   "cell_type": "code",
   "execution_count": 5,
   "id": "3a9e80e9-ee19-48cc-8e97-1d3beb2cd897",
   "metadata": {},
   "outputs": [
    {
     "data": {
      "text/html": [
       "<div>\n",
       "<style scoped>\n",
       "    .dataframe tbody tr th:only-of-type {\n",
       "        vertical-align: middle;\n",
       "    }\n",
       "\n",
       "    .dataframe tbody tr th {\n",
       "        vertical-align: top;\n",
       "    }\n",
       "\n",
       "    .dataframe thead th {\n",
       "        text-align: right;\n",
       "    }\n",
       "</style>\n",
       "<table border=\"1\" class=\"dataframe\">\n",
       "  <thead>\n",
       "    <tr style=\"text-align: right;\">\n",
       "      <th></th>\n",
       "      <th>User ID</th>\n",
       "      <th>Gender</th>\n",
       "      <th>Age</th>\n",
       "      <th>EstimatedSalary</th>\n",
       "      <th>Purchased</th>\n",
       "    </tr>\n",
       "  </thead>\n",
       "  <tbody>\n",
       "    <tr>\n",
       "      <th>395</th>\n",
       "      <td>15691863</td>\n",
       "      <td>Female</td>\n",
       "      <td>46</td>\n",
       "      <td>41000</td>\n",
       "      <td>1</td>\n",
       "    </tr>\n",
       "    <tr>\n",
       "      <th>396</th>\n",
       "      <td>15706071</td>\n",
       "      <td>Male</td>\n",
       "      <td>51</td>\n",
       "      <td>23000</td>\n",
       "      <td>1</td>\n",
       "    </tr>\n",
       "    <tr>\n",
       "      <th>397</th>\n",
       "      <td>15654296</td>\n",
       "      <td>Female</td>\n",
       "      <td>50</td>\n",
       "      <td>20000</td>\n",
       "      <td>1</td>\n",
       "    </tr>\n",
       "    <tr>\n",
       "      <th>398</th>\n",
       "      <td>15755018</td>\n",
       "      <td>Male</td>\n",
       "      <td>36</td>\n",
       "      <td>33000</td>\n",
       "      <td>0</td>\n",
       "    </tr>\n",
       "    <tr>\n",
       "      <th>399</th>\n",
       "      <td>15594041</td>\n",
       "      <td>Female</td>\n",
       "      <td>49</td>\n",
       "      <td>36000</td>\n",
       "      <td>1</td>\n",
       "    </tr>\n",
       "  </tbody>\n",
       "</table>\n",
       "</div>"
      ],
      "text/plain": [
       "      User ID  Gender  Age  EstimatedSalary  Purchased\n",
       "395  15691863  Female   46            41000          1\n",
       "396  15706071    Male   51            23000          1\n",
       "397  15654296  Female   50            20000          1\n",
       "398  15755018    Male   36            33000          0\n",
       "399  15594041  Female   49            36000          1"
      ]
     },
     "execution_count": 5,
     "metadata": {},
     "output_type": "execute_result"
    }
   ],
   "source": [
    "df.tail()"
   ]
  },
  {
   "cell_type": "code",
   "execution_count": 6,
   "id": "d4953fcd-826c-4e20-a4bc-031788daa009",
   "metadata": {},
   "outputs": [
    {
     "data": {
      "text/plain": [
       "(400, 5)"
      ]
     },
     "execution_count": 6,
     "metadata": {},
     "output_type": "execute_result"
    }
   ],
   "source": [
    "df.shape"
   ]
  },
  {
   "cell_type": "code",
   "execution_count": 7,
   "id": "c3e703aa-a4b9-4f69-9ae2-a705e09221ec",
   "metadata": {},
   "outputs": [
    {
     "name": "stdout",
     "output_type": "stream",
     "text": [
      "<class 'pandas.core.frame.DataFrame'>\n",
      "RangeIndex: 400 entries, 0 to 399\n",
      "Data columns (total 5 columns):\n",
      " #   Column           Non-Null Count  Dtype \n",
      "---  ------           --------------  ----- \n",
      " 0   User ID          400 non-null    int64 \n",
      " 1   Gender           400 non-null    object\n",
      " 2   Age              400 non-null    int64 \n",
      " 3   EstimatedSalary  400 non-null    int64 \n",
      " 4   Purchased        400 non-null    int64 \n",
      "dtypes: int64(4), object(1)\n",
      "memory usage: 15.8+ KB\n"
     ]
    }
   ],
   "source": [
    "df.info()"
   ]
  },
  {
   "cell_type": "code",
   "execution_count": 8,
   "id": "4c1d045f-2ed4-40a8-bab0-0a3419f35c27",
   "metadata": {},
   "outputs": [
    {
     "data": {
      "text/plain": [
       "User ID             int64\n",
       "Gender             object\n",
       "Age                 int64\n",
       "EstimatedSalary     int64\n",
       "Purchased           int64\n",
       "dtype: object"
      ]
     },
     "execution_count": 8,
     "metadata": {},
     "output_type": "execute_result"
    }
   ],
   "source": [
    "df.dtypes"
   ]
  },
  {
   "cell_type": "code",
   "execution_count": 9,
   "id": "f15fae50-7b46-419a-8f17-0289e51ac2ab",
   "metadata": {},
   "outputs": [
    {
     "data": {
      "text/html": [
       "<style type=\"text/css\">\n",
       "#T_849fb_row0_col0, #T_849fb_row0_col2, #T_849fb_row1_col3, #T_849fb_row2_col1, #T_849fb_row2_col3, #T_849fb_row3_col3, #T_849fb_row4_col3, #T_849fb_row5_col3, #T_849fb_row6_col3, #T_849fb_row7_col3 {\n",
       "  background-color: #fff7fb;\n",
       "  color: #000000;\n",
       "}\n",
       "#T_849fb_row0_col1, #T_849fb_row0_col3, #T_849fb_row7_col0, #T_849fb_row7_col2 {\n",
       "  background-color: #023858;\n",
       "  color: #f1f1f1;\n",
       "}\n",
       "#T_849fb_row1_col0 {\n",
       "  background-color: #023a5b;\n",
       "  color: #f1f1f1;\n",
       "}\n",
       "#T_849fb_row1_col1, #T_849fb_row5_col1 {\n",
       "  background-color: #f5eef6;\n",
       "  color: #000000;\n",
       "}\n",
       "#T_849fb_row1_col2 {\n",
       "  background-color: #83afd3;\n",
       "  color: #f1f1f1;\n",
       "}\n",
       "#T_849fb_row2_col0 {\n",
       "  background-color: #fef6fb;\n",
       "  color: #000000;\n",
       "}\n",
       "#T_849fb_row2_col2 {\n",
       "  background-color: #d6d6e9;\n",
       "  color: #000000;\n",
       "}\n",
       "#T_849fb_row3_col0 {\n",
       "  background-color: #023c5f;\n",
       "  color: #f1f1f1;\n",
       "}\n",
       "#T_849fb_row3_col1 {\n",
       "  background-color: #fdf5fa;\n",
       "  color: #000000;\n",
       "}\n",
       "#T_849fb_row3_col2 {\n",
       "  background-color: #f1ebf4;\n",
       "  color: #000000;\n",
       "}\n",
       "#T_849fb_row4_col0 {\n",
       "  background-color: #023b5d;\n",
       "  color: #f1f1f1;\n",
       "}\n",
       "#T_849fb_row4_col1 {\n",
       "  background-color: #f8f1f8;\n",
       "  color: #000000;\n",
       "}\n",
       "#T_849fb_row4_col2 {\n",
       "  background-color: #c5cce3;\n",
       "  color: #000000;\n",
       "}\n",
       "#T_849fb_row5_col0, #T_849fb_row6_col0 {\n",
       "  background-color: #02395a;\n",
       "  color: #f1f1f1;\n",
       "}\n",
       "#T_849fb_row5_col2 {\n",
       "  background-color: #81aed2;\n",
       "  color: #f1f1f1;\n",
       "}\n",
       "#T_849fb_row6_col1 {\n",
       "  background-color: #f1ebf5;\n",
       "  color: #000000;\n",
       "}\n",
       "#T_849fb_row6_col2 {\n",
       "  background-color: #4a98c5;\n",
       "  color: #f1f1f1;\n",
       "}\n",
       "#T_849fb_row7_col1 {\n",
       "  background-color: #ece7f2;\n",
       "  color: #000000;\n",
       "}\n",
       "</style>\n",
       "<table id=\"T_849fb\">\n",
       "  <thead>\n",
       "    <tr>\n",
       "      <th class=\"blank level0\" >&nbsp;</th>\n",
       "      <th id=\"T_849fb_level0_col0\" class=\"col_heading level0 col0\" >User ID</th>\n",
       "      <th id=\"T_849fb_level0_col1\" class=\"col_heading level0 col1\" >Age</th>\n",
       "      <th id=\"T_849fb_level0_col2\" class=\"col_heading level0 col2\" >EstimatedSalary</th>\n",
       "      <th id=\"T_849fb_level0_col3\" class=\"col_heading level0 col3\" >Purchased</th>\n",
       "    </tr>\n",
       "  </thead>\n",
       "  <tbody>\n",
       "    <tr>\n",
       "      <th id=\"T_849fb_level0_row0\" class=\"row_heading level0 row0\" >count</th>\n",
       "      <td id=\"T_849fb_row0_col0\" class=\"data row0 col0\" >400.000000</td>\n",
       "      <td id=\"T_849fb_row0_col1\" class=\"data row0 col1\" >400.000000</td>\n",
       "      <td id=\"T_849fb_row0_col2\" class=\"data row0 col2\" >400.000000</td>\n",
       "      <td id=\"T_849fb_row0_col3\" class=\"data row0 col3\" >400.000000</td>\n",
       "    </tr>\n",
       "    <tr>\n",
       "      <th id=\"T_849fb_level0_row1\" class=\"row_heading level0 row1\" >mean</th>\n",
       "      <td id=\"T_849fb_row1_col0\" class=\"data row1 col0\" >15691539.757500</td>\n",
       "      <td id=\"T_849fb_row1_col1\" class=\"data row1 col1\" >37.655000</td>\n",
       "      <td id=\"T_849fb_row1_col2\" class=\"data row1 col2\" >69742.500000</td>\n",
       "      <td id=\"T_849fb_row1_col3\" class=\"data row1 col3\" >0.357500</td>\n",
       "    </tr>\n",
       "    <tr>\n",
       "      <th id=\"T_849fb_level0_row2\" class=\"row_heading level0 row2\" >std</th>\n",
       "      <td id=\"T_849fb_row2_col0\" class=\"data row2 col0\" >71658.321581</td>\n",
       "      <td id=\"T_849fb_row2_col1\" class=\"data row2 col1\" >10.482877</td>\n",
       "      <td id=\"T_849fb_row2_col2\" class=\"data row2 col2\" >34096.960282</td>\n",
       "      <td id=\"T_849fb_row2_col3\" class=\"data row2 col3\" >0.479864</td>\n",
       "    </tr>\n",
       "    <tr>\n",
       "      <th id=\"T_849fb_level0_row3\" class=\"row_heading level0 row3\" >min</th>\n",
       "      <td id=\"T_849fb_row3_col0\" class=\"data row3 col0\" >15566689.000000</td>\n",
       "      <td id=\"T_849fb_row3_col1\" class=\"data row3 col1\" >18.000000</td>\n",
       "      <td id=\"T_849fb_row3_col2\" class=\"data row3 col2\" >15000.000000</td>\n",
       "      <td id=\"T_849fb_row3_col3\" class=\"data row3 col3\" >0.000000</td>\n",
       "    </tr>\n",
       "    <tr>\n",
       "      <th id=\"T_849fb_level0_row4\" class=\"row_heading level0 row4\" >25%</th>\n",
       "      <td id=\"T_849fb_row4_col0\" class=\"data row4 col0\" >15626763.750000</td>\n",
       "      <td id=\"T_849fb_row4_col1\" class=\"data row4 col1\" >29.750000</td>\n",
       "      <td id=\"T_849fb_row4_col2\" class=\"data row4 col2\" >43000.000000</td>\n",
       "      <td id=\"T_849fb_row4_col3\" class=\"data row4 col3\" >0.000000</td>\n",
       "    </tr>\n",
       "    <tr>\n",
       "      <th id=\"T_849fb_level0_row5\" class=\"row_heading level0 row5\" >50%</th>\n",
       "      <td id=\"T_849fb_row5_col0\" class=\"data row5 col0\" >15694341.500000</td>\n",
       "      <td id=\"T_849fb_row5_col1\" class=\"data row5 col1\" >37.000000</td>\n",
       "      <td id=\"T_849fb_row5_col2\" class=\"data row5 col2\" >70000.000000</td>\n",
       "      <td id=\"T_849fb_row5_col3\" class=\"data row5 col3\" >0.000000</td>\n",
       "    </tr>\n",
       "    <tr>\n",
       "      <th id=\"T_849fb_level0_row6\" class=\"row_heading level0 row6\" >75%</th>\n",
       "      <td id=\"T_849fb_row6_col0\" class=\"data row6 col0\" >15750363.000000</td>\n",
       "      <td id=\"T_849fb_row6_col1\" class=\"data row6 col1\" >46.000000</td>\n",
       "      <td id=\"T_849fb_row6_col2\" class=\"data row6 col2\" >88000.000000</td>\n",
       "      <td id=\"T_849fb_row6_col3\" class=\"data row6 col3\" >1.000000</td>\n",
       "    </tr>\n",
       "    <tr>\n",
       "      <th id=\"T_849fb_level0_row7\" class=\"row_heading level0 row7\" >max</th>\n",
       "      <td id=\"T_849fb_row7_col0\" class=\"data row7 col0\" >15815236.000000</td>\n",
       "      <td id=\"T_849fb_row7_col1\" class=\"data row7 col1\" >60.000000</td>\n",
       "      <td id=\"T_849fb_row7_col2\" class=\"data row7 col2\" >150000.000000</td>\n",
       "      <td id=\"T_849fb_row7_col3\" class=\"data row7 col3\" >1.000000</td>\n",
       "    </tr>\n",
       "  </tbody>\n",
       "</table>\n"
      ],
      "text/plain": [
       "<pandas.io.formats.style.Styler at 0x7f1bab454730>"
      ]
     },
     "execution_count": 9,
     "metadata": {},
     "output_type": "execute_result"
    }
   ],
   "source": [
    "df.describe().style.background_gradient(cmap= 'PuBu')"
   ]
  },
  {
   "cell_type": "code",
   "execution_count": 10,
   "id": "3d76bf85-2b56-412e-854e-2f59fdc36619",
   "metadata": {},
   "outputs": [
    {
     "data": {
      "text/plain": [
       "User ID   Gender  Age  EstimatedSalary  Purchased\n",
       "15566689  Female  35   57000            0            1\n",
       "15728773  Male    27   58000            0            1\n",
       "15734312  Male    38   71000            0            1\n",
       "15734161  Female  37   93000            1            1\n",
       "15733973  Female  47   113000           1            1\n",
       "                                                    ..\n",
       "15654296  Female  50   20000            1            1\n",
       "15654230  Female  55   130000           1            1\n",
       "15652400  Female  38   50000            0            1\n",
       "15651983  Male    34   112000           1            1\n",
       "15815236  Female  45   131000           1            1\n",
       "Length: 400, dtype: int64"
      ]
     },
     "execution_count": 10,
     "metadata": {},
     "output_type": "execute_result"
    }
   ],
   "source": [
    "df.value_counts()"
   ]
  },
  {
   "cell_type": "code",
   "execution_count": 11,
   "id": "09863f26-b350-4250-8b74-bfb78733af5c",
   "metadata": {},
   "outputs": [
    {
     "data": {
      "text/html": [
       "<div>\n",
       "<style scoped>\n",
       "    .dataframe tbody tr th:only-of-type {\n",
       "        vertical-align: middle;\n",
       "    }\n",
       "\n",
       "    .dataframe tbody tr th {\n",
       "        vertical-align: top;\n",
       "    }\n",
       "\n",
       "    .dataframe thead th {\n",
       "        text-align: right;\n",
       "    }\n",
       "</style>\n",
       "<table border=\"1\" class=\"dataframe\">\n",
       "  <thead>\n",
       "    <tr style=\"text-align: right;\">\n",
       "      <th></th>\n",
       "      <th>User ID</th>\n",
       "      <th>Gender</th>\n",
       "      <th>Age</th>\n",
       "      <th>EstimatedSalary</th>\n",
       "      <th>Purchased</th>\n",
       "    </tr>\n",
       "  </thead>\n",
       "  <tbody>\n",
       "    <tr>\n",
       "      <th>0</th>\n",
       "      <td>False</td>\n",
       "      <td>False</td>\n",
       "      <td>False</td>\n",
       "      <td>False</td>\n",
       "      <td>False</td>\n",
       "    </tr>\n",
       "    <tr>\n",
       "      <th>1</th>\n",
       "      <td>False</td>\n",
       "      <td>False</td>\n",
       "      <td>False</td>\n",
       "      <td>False</td>\n",
       "      <td>False</td>\n",
       "    </tr>\n",
       "    <tr>\n",
       "      <th>2</th>\n",
       "      <td>False</td>\n",
       "      <td>False</td>\n",
       "      <td>False</td>\n",
       "      <td>False</td>\n",
       "      <td>False</td>\n",
       "    </tr>\n",
       "    <tr>\n",
       "      <th>3</th>\n",
       "      <td>False</td>\n",
       "      <td>False</td>\n",
       "      <td>False</td>\n",
       "      <td>False</td>\n",
       "      <td>False</td>\n",
       "    </tr>\n",
       "    <tr>\n",
       "      <th>4</th>\n",
       "      <td>False</td>\n",
       "      <td>False</td>\n",
       "      <td>False</td>\n",
       "      <td>False</td>\n",
       "      <td>False</td>\n",
       "    </tr>\n",
       "    <tr>\n",
       "      <th>...</th>\n",
       "      <td>...</td>\n",
       "      <td>...</td>\n",
       "      <td>...</td>\n",
       "      <td>...</td>\n",
       "      <td>...</td>\n",
       "    </tr>\n",
       "    <tr>\n",
       "      <th>395</th>\n",
       "      <td>False</td>\n",
       "      <td>False</td>\n",
       "      <td>False</td>\n",
       "      <td>False</td>\n",
       "      <td>False</td>\n",
       "    </tr>\n",
       "    <tr>\n",
       "      <th>396</th>\n",
       "      <td>False</td>\n",
       "      <td>False</td>\n",
       "      <td>False</td>\n",
       "      <td>False</td>\n",
       "      <td>False</td>\n",
       "    </tr>\n",
       "    <tr>\n",
       "      <th>397</th>\n",
       "      <td>False</td>\n",
       "      <td>False</td>\n",
       "      <td>False</td>\n",
       "      <td>False</td>\n",
       "      <td>False</td>\n",
       "    </tr>\n",
       "    <tr>\n",
       "      <th>398</th>\n",
       "      <td>False</td>\n",
       "      <td>False</td>\n",
       "      <td>False</td>\n",
       "      <td>False</td>\n",
       "      <td>False</td>\n",
       "    </tr>\n",
       "    <tr>\n",
       "      <th>399</th>\n",
       "      <td>False</td>\n",
       "      <td>False</td>\n",
       "      <td>False</td>\n",
       "      <td>False</td>\n",
       "      <td>False</td>\n",
       "    </tr>\n",
       "  </tbody>\n",
       "</table>\n",
       "<p>400 rows × 5 columns</p>\n",
       "</div>"
      ],
      "text/plain": [
       "     User ID  Gender    Age  EstimatedSalary  Purchased\n",
       "0      False   False  False            False      False\n",
       "1      False   False  False            False      False\n",
       "2      False   False  False            False      False\n",
       "3      False   False  False            False      False\n",
       "4      False   False  False            False      False\n",
       "..       ...     ...    ...              ...        ...\n",
       "395    False   False  False            False      False\n",
       "396    False   False  False            False      False\n",
       "397    False   False  False            False      False\n",
       "398    False   False  False            False      False\n",
       "399    False   False  False            False      False\n",
       "\n",
       "[400 rows x 5 columns]"
      ]
     },
     "execution_count": 11,
     "metadata": {},
     "output_type": "execute_result"
    }
   ],
   "source": [
    "df.isnull()"
   ]
  },
  {
   "cell_type": "code",
   "execution_count": 12,
   "id": "4f898932-cd12-46f0-8a2c-6d1335218157",
   "metadata": {},
   "outputs": [
    {
     "data": {
      "text/plain": [
       "User ID            0\n",
       "Gender             0\n",
       "Age                0\n",
       "EstimatedSalary    0\n",
       "Purchased          0\n",
       "dtype: int64"
      ]
     },
     "execution_count": 12,
     "metadata": {},
     "output_type": "execute_result"
    }
   ],
   "source": [
    "df.isnull().sum()"
   ]
  },
  {
   "cell_type": "code",
   "execution_count": 13,
   "id": "1dcb5ce4-4749-4eaa-a389-4ba8409b0677",
   "metadata": {},
   "outputs": [
    {
     "data": {
      "text/plain": [
       "Female    204\n",
       "Male      196\n",
       "Name: Gender, dtype: int64"
      ]
     },
     "execution_count": 13,
     "metadata": {},
     "output_type": "execute_result"
    }
   ],
   "source": [
    "df['Gender'].value_counts()"
   ]
  },
  {
   "cell_type": "code",
   "execution_count": 14,
   "id": "70189f4e-d10a-44bd-843e-484a13b57f0f",
   "metadata": {},
   "outputs": [],
   "source": [
    "df['Gender'] = df['Gender'].replace({\"Male\":1 , \"Female\":0})"
   ]
  },
  {
   "cell_type": "code",
   "execution_count": 15,
   "id": "271a833c-adb7-4e15-8125-685c6be24aab",
   "metadata": {},
   "outputs": [],
   "source": [
    "# rre={\"Male\":1,\"Female\":0}\n",
    "# df[\"Gender\"]=df[\"Gender\"].replace(rre)\n",
    "# df"
   ]
  },
  {
   "cell_type": "code",
   "execution_count": 16,
   "id": "635fa04a-d6da-4cb0-a5c8-36a94a5430b8",
   "metadata": {},
   "outputs": [
    {
     "data": {
      "text/html": [
       "<div>\n",
       "<style scoped>\n",
       "    .dataframe tbody tr th:only-of-type {\n",
       "        vertical-align: middle;\n",
       "    }\n",
       "\n",
       "    .dataframe tbody tr th {\n",
       "        vertical-align: top;\n",
       "    }\n",
       "\n",
       "    .dataframe thead th {\n",
       "        text-align: right;\n",
       "    }\n",
       "</style>\n",
       "<table border=\"1\" class=\"dataframe\">\n",
       "  <thead>\n",
       "    <tr style=\"text-align: right;\">\n",
       "      <th></th>\n",
       "      <th>User ID</th>\n",
       "      <th>Gender</th>\n",
       "      <th>Age</th>\n",
       "      <th>EstimatedSalary</th>\n",
       "      <th>Purchased</th>\n",
       "    </tr>\n",
       "  </thead>\n",
       "  <tbody>\n",
       "    <tr>\n",
       "      <th>0</th>\n",
       "      <td>15624510</td>\n",
       "      <td>1</td>\n",
       "      <td>19</td>\n",
       "      <td>19000</td>\n",
       "      <td>0</td>\n",
       "    </tr>\n",
       "    <tr>\n",
       "      <th>1</th>\n",
       "      <td>15810944</td>\n",
       "      <td>1</td>\n",
       "      <td>35</td>\n",
       "      <td>20000</td>\n",
       "      <td>0</td>\n",
       "    </tr>\n",
       "    <tr>\n",
       "      <th>2</th>\n",
       "      <td>15668575</td>\n",
       "      <td>0</td>\n",
       "      <td>26</td>\n",
       "      <td>43000</td>\n",
       "      <td>0</td>\n",
       "    </tr>\n",
       "    <tr>\n",
       "      <th>3</th>\n",
       "      <td>15603246</td>\n",
       "      <td>0</td>\n",
       "      <td>27</td>\n",
       "      <td>57000</td>\n",
       "      <td>0</td>\n",
       "    </tr>\n",
       "    <tr>\n",
       "      <th>4</th>\n",
       "      <td>15804002</td>\n",
       "      <td>1</td>\n",
       "      <td>19</td>\n",
       "      <td>76000</td>\n",
       "      <td>0</td>\n",
       "    </tr>\n",
       "    <tr>\n",
       "      <th>...</th>\n",
       "      <td>...</td>\n",
       "      <td>...</td>\n",
       "      <td>...</td>\n",
       "      <td>...</td>\n",
       "      <td>...</td>\n",
       "    </tr>\n",
       "    <tr>\n",
       "      <th>395</th>\n",
       "      <td>15691863</td>\n",
       "      <td>0</td>\n",
       "      <td>46</td>\n",
       "      <td>41000</td>\n",
       "      <td>1</td>\n",
       "    </tr>\n",
       "    <tr>\n",
       "      <th>396</th>\n",
       "      <td>15706071</td>\n",
       "      <td>1</td>\n",
       "      <td>51</td>\n",
       "      <td>23000</td>\n",
       "      <td>1</td>\n",
       "    </tr>\n",
       "    <tr>\n",
       "      <th>397</th>\n",
       "      <td>15654296</td>\n",
       "      <td>0</td>\n",
       "      <td>50</td>\n",
       "      <td>20000</td>\n",
       "      <td>1</td>\n",
       "    </tr>\n",
       "    <tr>\n",
       "      <th>398</th>\n",
       "      <td>15755018</td>\n",
       "      <td>1</td>\n",
       "      <td>36</td>\n",
       "      <td>33000</td>\n",
       "      <td>0</td>\n",
       "    </tr>\n",
       "    <tr>\n",
       "      <th>399</th>\n",
       "      <td>15594041</td>\n",
       "      <td>0</td>\n",
       "      <td>49</td>\n",
       "      <td>36000</td>\n",
       "      <td>1</td>\n",
       "    </tr>\n",
       "  </tbody>\n",
       "</table>\n",
       "<p>400 rows × 5 columns</p>\n",
       "</div>"
      ],
      "text/plain": [
       "      User ID  Gender  Age  EstimatedSalary  Purchased\n",
       "0    15624510       1   19            19000          0\n",
       "1    15810944       1   35            20000          0\n",
       "2    15668575       0   26            43000          0\n",
       "3    15603246       0   27            57000          0\n",
       "4    15804002       1   19            76000          0\n",
       "..        ...     ...  ...              ...        ...\n",
       "395  15691863       0   46            41000          1\n",
       "396  15706071       1   51            23000          1\n",
       "397  15654296       0   50            20000          1\n",
       "398  15755018       1   36            33000          0\n",
       "399  15594041       0   49            36000          1\n",
       "\n",
       "[400 rows x 5 columns]"
      ]
     },
     "execution_count": 16,
     "metadata": {},
     "output_type": "execute_result"
    }
   ],
   "source": [
    "df"
   ]
  },
  {
   "cell_type": "code",
   "execution_count": 17,
   "id": "2bc5c792-b994-4a1c-a99f-247aacddd6e0",
   "metadata": {},
   "outputs": [],
   "source": [
    "df = df.drop('User ID',axis=1)"
   ]
  },
  {
   "cell_type": "code",
   "execution_count": 18,
   "id": "65acd218-0efb-4aef-9894-2d0ac049bb25",
   "metadata": {},
   "outputs": [
    {
     "data": {
      "text/html": [
       "<div>\n",
       "<style scoped>\n",
       "    .dataframe tbody tr th:only-of-type {\n",
       "        vertical-align: middle;\n",
       "    }\n",
       "\n",
       "    .dataframe tbody tr th {\n",
       "        vertical-align: top;\n",
       "    }\n",
       "\n",
       "    .dataframe thead th {\n",
       "        text-align: right;\n",
       "    }\n",
       "</style>\n",
       "<table border=\"1\" class=\"dataframe\">\n",
       "  <thead>\n",
       "    <tr style=\"text-align: right;\">\n",
       "      <th></th>\n",
       "      <th>Gender</th>\n",
       "      <th>Age</th>\n",
       "      <th>EstimatedSalary</th>\n",
       "      <th>Purchased</th>\n",
       "    </tr>\n",
       "  </thead>\n",
       "  <tbody>\n",
       "    <tr>\n",
       "      <th>0</th>\n",
       "      <td>1</td>\n",
       "      <td>19</td>\n",
       "      <td>19000</td>\n",
       "      <td>0</td>\n",
       "    </tr>\n",
       "    <tr>\n",
       "      <th>1</th>\n",
       "      <td>1</td>\n",
       "      <td>35</td>\n",
       "      <td>20000</td>\n",
       "      <td>0</td>\n",
       "    </tr>\n",
       "    <tr>\n",
       "      <th>2</th>\n",
       "      <td>0</td>\n",
       "      <td>26</td>\n",
       "      <td>43000</td>\n",
       "      <td>0</td>\n",
       "    </tr>\n",
       "    <tr>\n",
       "      <th>3</th>\n",
       "      <td>0</td>\n",
       "      <td>27</td>\n",
       "      <td>57000</td>\n",
       "      <td>0</td>\n",
       "    </tr>\n",
       "    <tr>\n",
       "      <th>4</th>\n",
       "      <td>1</td>\n",
       "      <td>19</td>\n",
       "      <td>76000</td>\n",
       "      <td>0</td>\n",
       "    </tr>\n",
       "    <tr>\n",
       "      <th>...</th>\n",
       "      <td>...</td>\n",
       "      <td>...</td>\n",
       "      <td>...</td>\n",
       "      <td>...</td>\n",
       "    </tr>\n",
       "    <tr>\n",
       "      <th>395</th>\n",
       "      <td>0</td>\n",
       "      <td>46</td>\n",
       "      <td>41000</td>\n",
       "      <td>1</td>\n",
       "    </tr>\n",
       "    <tr>\n",
       "      <th>396</th>\n",
       "      <td>1</td>\n",
       "      <td>51</td>\n",
       "      <td>23000</td>\n",
       "      <td>1</td>\n",
       "    </tr>\n",
       "    <tr>\n",
       "      <th>397</th>\n",
       "      <td>0</td>\n",
       "      <td>50</td>\n",
       "      <td>20000</td>\n",
       "      <td>1</td>\n",
       "    </tr>\n",
       "    <tr>\n",
       "      <th>398</th>\n",
       "      <td>1</td>\n",
       "      <td>36</td>\n",
       "      <td>33000</td>\n",
       "      <td>0</td>\n",
       "    </tr>\n",
       "    <tr>\n",
       "      <th>399</th>\n",
       "      <td>0</td>\n",
       "      <td>49</td>\n",
       "      <td>36000</td>\n",
       "      <td>1</td>\n",
       "    </tr>\n",
       "  </tbody>\n",
       "</table>\n",
       "<p>400 rows × 4 columns</p>\n",
       "</div>"
      ],
      "text/plain": [
       "     Gender  Age  EstimatedSalary  Purchased\n",
       "0         1   19            19000          0\n",
       "1         1   35            20000          0\n",
       "2         0   26            43000          0\n",
       "3         0   27            57000          0\n",
       "4         1   19            76000          0\n",
       "..      ...  ...              ...        ...\n",
       "395       0   46            41000          1\n",
       "396       1   51            23000          1\n",
       "397       0   50            20000          1\n",
       "398       1   36            33000          0\n",
       "399       0   49            36000          1\n",
       "\n",
       "[400 rows x 4 columns]"
      ]
     },
     "execution_count": 18,
     "metadata": {},
     "output_type": "execute_result"
    }
   ],
   "source": [
    "df"
   ]
  },
  {
   "cell_type": "code",
   "execution_count": 19,
   "id": "db37572a-d3a6-4f08-9b73-afe13bbcf4c8",
   "metadata": {},
   "outputs": [
    {
     "name": "stderr",
     "output_type": "stream",
     "text": [
      "No artists with labels found to put in legend.  Note that artists whose label start with an underscore are ignored when legend() is called with no argument.\n"
     ]
    },
    {
     "data": {
      "image/png": "[encoded data removed]",
      "text/plain": [
       "<Figure size 600x600 with 1 Axes>"
      ]
     },
     "metadata": {},
     "output_type": "display_data"
    }
   ],
   "source": [
    "plt.figure(figsize=(6,6))\n",
    "\n",
    "plt.hist(x= df['Gender'] , bins=50 , histtype='bar' , rwidth=0.5)\n",
    "plt.title(\"Age Distribution by Gender\")\n",
    "plt.xlabel(\"Gender\")\n",
    "plt.ylabel(\"Age\")\n",
    "plt.legend()\n",
    "plt.show()\n",
    "         "
   ]
  },
  {
   "cell_type": "code",
   "execution_count": 20,
   "id": "68226d19-e4d5-4923-bf4a-30a7483496a2",
   "metadata": {},
   "outputs": [
    {
     "data": {
      "text/plain": [
       "<AxesSubplot: xlabel='Gender', ylabel='Age'>"
      ]
     },
     "execution_count": 20,
     "metadata": {},
     "output_type": "execute_result"
    },
    {
     "data": {
      "image/png": "[encoded data removed]",
      "text/plain": [
       "<Figure size 640x480 with 1 Axes>"
      ]
     },
     "metadata": {},
     "output_type": "display_data"
    }
   ],
   "source": [
    "sns.scatterplot(x = df['Gender'] , y = df['Age'],  color= 'g')"
   ]
  },
  {
   "cell_type": "code",
   "execution_count": 21,
   "id": "e2651f92-9ecc-4af2-b05a-6f6a418894cb",
   "metadata": {},
   "outputs": [
    {
     "data": {
      "text/plain": [
       "<AxesSubplot: xlabel='Age', ylabel='EstimatedSalary'>"
      ]
     },
     "execution_count": 21,
     "metadata": {},
     "output_type": "execute_result"
    },
    {
     "data": {
      "image/png": "[encoded data removed]",
      "text/plain": [
       "<Figure size 640x480 with 1 Axes>"
      ]
     },
     "metadata": {},
     "output_type": "display_data"
    }
   ],
   "source": [
    "sns.scatterplot(x = df['Age'] , y = df['EstimatedSalary'], color= 'y')"
   ]
  },
  {
   "cell_type": "code",
   "execution_count": 22,
   "id": "7b23b346-bdd0-4f0a-9b51-4ced4530233d",
   "metadata": {},
   "outputs": [
    {
     "data": {
      "image/png": "[encoded data removed]",
      "text/plain": [
       "<Figure size 1500x500 with 2 Axes>"
      ]
     },
     "metadata": {},
     "output_type": "display_data"
    }
   ],
   "source": [
    "fig, axes = plt.subplots(1, 2, figsize=(15,5))\n",
    "sns.boxplot(ax=axes[0],x=df['Gender'], y=df['EstimatedSalary'], palette=\"PRGn\")\n",
    "axes[0].set_title('Estimated Salary By Gender')\n",
    "\n",
    "sns.boxplot(ax=axes[1],x=df['Gender'], y=df['Age'], palette=\"pink\")\n",
    "axes[1].set_title('Ages By Gender')\n",
    "plt.show()"
   ]
  },
  {
   "cell_type": "code",
   "execution_count": 23,
   "id": "8be67016-8397-4f81-94c5-cad2b9bf50ed",
   "metadata": {},
   "outputs": [
    {
     "data": {
      "text/plain": [
       "Text(0.5, 1.0, 'Number Of People Purchased')"
      ]
     },
     "execution_count": 23,
     "metadata": {},
     "output_type": "execute_result"
    },
    {
     "data": {
      "image/png": "[encoded data removed]",
      "text/plain": [
       "<Figure size 640x480 with 1 Axes>"
      ]
     },
     "metadata": {},
     "output_type": "display_data"
    }
   ],
   "source": [
    "sns.countplot(x = df['Purchased'],data=df)\n",
    "plt.title('Number Of People Purchased')"
   ]
  },
  {
   "cell_type": "code",
   "execution_count": null,
   "id": "c5813967-47a0-4cbe-9a37-0fb3f9fdeade",
   "metadata": {},
   "outputs": [],
   "source": []
  },
  {
   "cell_type": "code",
   "execution_count": null,
   "id": "58042562-5d33-45b9-9058-927a362ccc8d",
   "metadata": {},
   "outputs": [],
   "source": []
  },
  {
   "cell_type": "code",
   "execution_count": null,
   "id": "9328d2f4-37b1-47ef-8e2e-cce39a933b78",
   "metadata": {},
   "outputs": [],
   "source": []
  },
  {
   "cell_type": "code",
   "execution_count": 24,
   "id": "565b86c9-4480-4304-9032-5d7c79173566",
   "metadata": {},
   "outputs": [
    {
     "data": {
      "image/png": "[encoded data removed]",
      "text/plain": [
       "<Figure size 640x480 with 1 Axes>"
      ]
     },
     "metadata": {},
     "output_type": "display_data"
    }
   ],
   "source": [
    "sns.countplot(x = df['Purchased'] , hue='Gender' , data=df)\n",
    "plt.title(\"Number of pepole purchased by Gender\")\n",
    "plt.legend()\n",
    "plt.show()"
   ]
  },
  {
   "cell_type": "code",
   "execution_count": 25,
   "id": "7200cc6c-fb9c-4826-8551-7a54e5bef6f8",
   "metadata": {},
   "outputs": [
    {
     "data": {
      "text/plain": [
       "<seaborn.axisgrid.PairGrid at 0x7f1b089f6dd0>"
      ]
     },
     "execution_count": 25,
     "metadata": {},
     "output_type": "execute_result"
    },
    {
     "data": {
      "image/png": "[encoded data removed]",
      "text/plain": [
       "<Figure size 1000x1000 with 20 Axes>"
      ]
     },
     "metadata": {},
     "output_type": "display_data"
    }
   ],
   "source": [
    "sns.pairplot(df)"
   ]
  },
  {
   "cell_type": "code",
   "execution_count": 26,
   "id": "41bf65f5-56df-467f-b81e-fa170cabd13b",
   "metadata": {},
   "outputs": [
    {
     "data": {
      "text/plain": [
       "<AxesSubplot: >"
      ]
     },
     "execution_count": 26,
     "metadata": {},
     "output_type": "execute_result"
    },
    {
     "data": {
      "image/png": "[encoded data removed]",
      "text/plain": [
       "<Figure size 600x600 with 2 Axes>"
      ]
     },
     "metadata": {},
     "output_type": "display_data"
    }
   ],
   "source": [
    "plt.figure(figsize=(6,6))\n",
    "sns.heatmap(df.isnull())"
   ]
  },
  {
   "cell_type": "code",
   "execution_count": 27,
   "id": "0263f1a6-67bf-464e-b0be-5d26f7b7cfef",
   "metadata": {},
   "outputs": [
    {
     "data": {
      "text/html": [
       "<div>\n",
       "<style scoped>\n",
       "    .dataframe tbody tr th:only-of-type {\n",
       "        vertical-align: middle;\n",
       "    }\n",
       "\n",
       "    .dataframe tbody tr th {\n",
       "        vertical-align: top;\n",
       "    }\n",
       "\n",
       "    .dataframe thead th {\n",
       "        text-align: right;\n",
       "    }\n",
       "</style>\n",
       "<table border=\"1\" class=\"dataframe\">\n",
       "  <thead>\n",
       "    <tr style=\"text-align: right;\">\n",
       "      <th></th>\n",
       "      <th>Gender</th>\n",
       "      <th>Age</th>\n",
       "      <th>EstimatedSalary</th>\n",
       "      <th>Purchased</th>\n",
       "    </tr>\n",
       "  </thead>\n",
       "  <tbody>\n",
       "    <tr>\n",
       "      <th>Gender</th>\n",
       "      <td>1.000000</td>\n",
       "      <td>-0.073741</td>\n",
       "      <td>-0.060435</td>\n",
       "      <td>-0.042469</td>\n",
       "    </tr>\n",
       "    <tr>\n",
       "      <th>Age</th>\n",
       "      <td>-0.073741</td>\n",
       "      <td>1.000000</td>\n",
       "      <td>0.155238</td>\n",
       "      <td>0.622454</td>\n",
       "    </tr>\n",
       "    <tr>\n",
       "      <th>EstimatedSalary</th>\n",
       "      <td>-0.060435</td>\n",
       "      <td>0.155238</td>\n",
       "      <td>1.000000</td>\n",
       "      <td>0.362083</td>\n",
       "    </tr>\n",
       "    <tr>\n",
       "      <th>Purchased</th>\n",
       "      <td>-0.042469</td>\n",
       "      <td>0.622454</td>\n",
       "      <td>0.362083</td>\n",
       "      <td>1.000000</td>\n",
       "    </tr>\n",
       "  </tbody>\n",
       "</table>\n",
       "</div>"
      ],
      "text/plain": [
       "                   Gender       Age  EstimatedSalary  Purchased\n",
       "Gender           1.000000 -0.073741        -0.060435  -0.042469\n",
       "Age             -0.073741  1.000000         0.155238   0.622454\n",
       "EstimatedSalary -0.060435  0.155238         1.000000   0.362083\n",
       "Purchased       -0.042469  0.622454         0.362083   1.000000"
      ]
     },
     "execution_count": 27,
     "metadata": {},
     "output_type": "execute_result"
    }
   ],
   "source": [
    "df.corr()"
   ]
  },
  {
   "cell_type": "code",
   "execution_count": 28,
   "id": "aeb92424-3eb0-4e24-81c3-24dfe2fb4dfc",
   "metadata": {},
   "outputs": [
    {
     "data": {
      "text/plain": [
       "<AxesSubplot: >"
      ]
     },
     "execution_count": 28,
     "metadata": {},
     "output_type": "execute_result"
    },
    {
     "data": {
      "image/png": "[encoded data removed]",
      "text/plain": [
       "<Figure size 600x600 with 2 Axes>"
      ]
     },
     "metadata": {},
     "output_type": "display_data"
    }
   ],
   "source": [
    "plt.figure(figsize=(6,6))\n",
    "sns.heatmap(df.corr(), cmap='viridis' , vmin=-1 , vmax=1)"
   ]
  },
  {
   "cell_type": "code",
   "execution_count": 29,
   "id": "a7ab2e5e-546e-4266-a111-53227f4265ce",
   "metadata": {},
   "outputs": [],
   "source": [
    "# X=np.array(df[[\"Gender\",\"Age\",\"EstimatedSalary\"]])\n",
    "# Y=np.array(df[\"Purchased\"])"
   ]
  },
  {
   "cell_type": "code",
   "execution_count": 30,
   "id": "2341421e-3964-4fcc-9e6f-973fc97e3307",
   "metadata": {},
   "outputs": [],
   "source": [
    "# y = df[\"EstimatedSalary\"]\n",
    "# X = df.drop(\"EstimatedSalary\", axis =1)"
   ]
  },
  {
   "cell_type": "code",
   "execution_count": 31,
   "id": "3fd93803-0049-4b90-8e2a-57af91f150c4",
   "metadata": {},
   "outputs": [],
   "source": [
    "# X=np.array(df[[\"Gender\",\"Age\",\"EstimatedSalary\"]])\n",
    "# Y=np.array(df[\"Purchased\"])"
   ]
  },
  {
   "cell_type": "code",
   "execution_count": 32,
   "id": "cbb8c78b-f3c3-45f9-a5e6-d717cbcf86c9",
   "metadata": {},
   "outputs": [],
   "source": [
    "# # set inputs and outputs\n",
    "# X = df.drop('Purchased',axis = 1)     \n",
    "# y = df['Purchased']"
   ]
  },
  {
   "cell_type": "code",
   "execution_count": 33,
   "id": "91a3b8fa-a98e-4e51-a80d-bb9df510aca5",
   "metadata": {},
   "outputs": [],
   "source": [
    "x = df.iloc[:,0:3]\n",
    "y = df.iloc[:,-1]"
   ]
  },
  {
   "cell_type": "code",
   "execution_count": 34,
   "id": "6069e12d-771e-44b1-83a4-bffd69ce036e",
   "metadata": {},
   "outputs": [
    {
     "data": {
      "text/html": [
       "<div>\n",
       "<style scoped>\n",
       "    .dataframe tbody tr th:only-of-type {\n",
       "        vertical-align: middle;\n",
       "    }\n",
       "\n",
       "    .dataframe tbody tr th {\n",
       "        vertical-align: top;\n",
       "    }\n",
       "\n",
       "    .dataframe thead th {\n",
       "        text-align: right;\n",
       "    }\n",
       "</style>\n",
       "<table border=\"1\" class=\"dataframe\">\n",
       "  <thead>\n",
       "    <tr style=\"text-align: right;\">\n",
       "      <th></th>\n",
       "      <th>Gender</th>\n",
       "      <th>Age</th>\n",
       "      <th>EstimatedSalary</th>\n",
       "    </tr>\n",
       "  </thead>\n",
       "  <tbody>\n",
       "    <tr>\n",
       "      <th>0</th>\n",
       "      <td>1</td>\n",
       "      <td>19</td>\n",
       "      <td>19000</td>\n",
       "    </tr>\n",
       "    <tr>\n",
       "      <th>1</th>\n",
       "      <td>1</td>\n",
       "      <td>35</td>\n",
       "      <td>20000</td>\n",
       "    </tr>\n",
       "    <tr>\n",
       "      <th>2</th>\n",
       "      <td>0</td>\n",
       "      <td>26</td>\n",
       "      <td>43000</td>\n",
       "    </tr>\n",
       "    <tr>\n",
       "      <th>3</th>\n",
       "      <td>0</td>\n",
       "      <td>27</td>\n",
       "      <td>57000</td>\n",
       "    </tr>\n",
       "    <tr>\n",
       "      <th>4</th>\n",
       "      <td>1</td>\n",
       "      <td>19</td>\n",
       "      <td>76000</td>\n",
       "    </tr>\n",
       "    <tr>\n",
       "      <th>...</th>\n",
       "      <td>...</td>\n",
       "      <td>...</td>\n",
       "      <td>...</td>\n",
       "    </tr>\n",
       "    <tr>\n",
       "      <th>395</th>\n",
       "      <td>0</td>\n",
       "      <td>46</td>\n",
       "      <td>41000</td>\n",
       "    </tr>\n",
       "    <tr>\n",
       "      <th>396</th>\n",
       "      <td>1</td>\n",
       "      <td>51</td>\n",
       "      <td>23000</td>\n",
       "    </tr>\n",
       "    <tr>\n",
       "      <th>397</th>\n",
       "      <td>0</td>\n",
       "      <td>50</td>\n",
       "      <td>20000</td>\n",
       "    </tr>\n",
       "    <tr>\n",
       "      <th>398</th>\n",
       "      <td>1</td>\n",
       "      <td>36</td>\n",
       "      <td>33000</td>\n",
       "    </tr>\n",
       "    <tr>\n",
       "      <th>399</th>\n",
       "      <td>0</td>\n",
       "      <td>49</td>\n",
       "      <td>36000</td>\n",
       "    </tr>\n",
       "  </tbody>\n",
       "</table>\n",
       "<p>400 rows × 3 columns</p>\n",
       "</div>"
      ],
      "text/plain": [
       "     Gender  Age  EstimatedSalary\n",
       "0         1   19            19000\n",
       "1         1   35            20000\n",
       "2         0   26            43000\n",
       "3         0   27            57000\n",
       "4         1   19            76000\n",
       "..      ...  ...              ...\n",
       "395       0   46            41000\n",
       "396       1   51            23000\n",
       "397       0   50            20000\n",
       "398       1   36            33000\n",
       "399       0   49            36000\n",
       "\n",
       "[400 rows x 3 columns]"
      ]
     },
     "execution_count": 34,
     "metadata": {},
     "output_type": "execute_result"
    }
   ],
   "source": [
    "x"
   ]
  },
  {
   "cell_type": "code",
   "execution_count": 35,
   "id": "741d34da-42a8-4153-a195-7e63b284e8b5",
   "metadata": {},
   "outputs": [
    {
     "data": {
      "text/plain": [
       "0      0\n",
       "1      0\n",
       "2      0\n",
       "3      0\n",
       "4      0\n",
       "      ..\n",
       "395    1\n",
       "396    1\n",
       "397    1\n",
       "398    0\n",
       "399    1\n",
       "Name: Purchased, Length: 400, dtype: int64"
      ]
     },
     "execution_count": 35,
     "metadata": {},
     "output_type": "execute_result"
    }
   ],
   "source": [
    "y"
   ]
  },
  {
   "cell_type": "markdown",
   "id": "48ebcebc-4fb4-42cb-aeb1-f322d70f8567",
   "metadata": {},
   "source": [
    "## Split Train and Test Data "
   ]
  },
  {
   "cell_type": "code",
   "execution_count": 36,
   "id": "6c4bdb26-7f78-4aa7-9f1a-48a84572dd10",
   "metadata": {},
   "outputs": [],
   "source": [
    "from sklearn.model_selection import train_test_split\n",
    "x_train , x_test , y_train, y_test=train_test_split(x,y,test_size=0.2, random_state=42)"
   ]
  },
  {
   "cell_type": "code",
   "execution_count": 37,
   "id": "d74b8d5a-aca1-43e6-9cab-3f74f052d68d",
   "metadata": {},
   "outputs": [
    {
     "name": "stdout",
     "output_type": "stream",
     "text": [
      "x_train of shape      Gender  Age  EstimatedSalary\n",
      "3         0   27            57000\n",
      "18        1   46            28000\n",
      "202       0   39           134000\n",
      "250       0   44            39000\n",
      "274       0   57            26000\n",
      "..      ...  ...              ...\n",
      "71        0   24            27000\n",
      "106       0   26            35000\n",
      "270       0   43           133000\n",
      "348       1   39            77000\n",
      "102       0   32            86000\n",
      "\n",
      "[320 rows x 3 columns]\n",
      "x_test of shape 209    0\n",
      "280    1\n",
      "33     0\n",
      "210    1\n",
      "93     0\n",
      "      ..\n",
      "246    0\n",
      "227    1\n",
      "369    1\n",
      "176    0\n",
      "289    1\n",
      "Name: Purchased, Length: 80, dtype: int64\n",
      "y_train of shape 3      0\n",
      "18     1\n",
      "202    1\n",
      "250    0\n",
      "274    1\n",
      "      ..\n",
      "71     0\n",
      "106    0\n",
      "270    0\n",
      "348    0\n",
      "102    0\n",
      "Name: Purchased, Length: 320, dtype: int64\n",
      "y_test of shape      Gender  Age  EstimatedSalary\n",
      "209       0   46            22000\n",
      "280       0   59            88000\n",
      "33        0   28            44000\n",
      "210       0   48            96000\n",
      "93        0   29            28000\n",
      "..      ...  ...              ...\n",
      "246       0   35            50000\n",
      "227       1   56           133000\n",
      "369       0   54            26000\n",
      "176       0   35            47000\n",
      "289       0   37            78000\n",
      "\n",
      "[80 rows x 3 columns]\n"
     ]
    }
   ],
   "source": [
    "print(\"x_train of shape\" , x_train)\n",
    "print(\"x_test of shape\" , y_test)\n",
    "print(\"y_train of shape\" , y_train)\n",
    "print(\"y_test of shape\" , x_test)"
   ]
  },
  {
   "cell_type": "code",
   "execution_count": 38,
   "id": "9bb8079e-d30f-4b34-8a61-a766597bc56e",
   "metadata": {},
   "outputs": [
    {
     "data": {
      "text/plain": [
       "(320, 3)"
      ]
     },
     "execution_count": 38,
     "metadata": {},
     "output_type": "execute_result"
    }
   ],
   "source": [
    "x_train.shape"
   ]
  },
  {
   "cell_type": "code",
   "execution_count": 39,
   "id": "f731f365-6405-40ae-b98e-5cb189028917",
   "metadata": {},
   "outputs": [
    {
     "data": {
      "text/plain": [
       "(80, 3)"
      ]
     },
     "execution_count": 39,
     "metadata": {},
     "output_type": "execute_result"
    }
   ],
   "source": [
    "x_test.shape"
   ]
  },
  {
   "cell_type": "code",
   "execution_count": 40,
   "id": "4ad013b4-5e17-4dc9-8921-ea8b09cd9a58",
   "metadata": {},
   "outputs": [
    {
     "data": {
      "text/plain": [
       "(320,)"
      ]
     },
     "execution_count": 40,
     "metadata": {},
     "output_type": "execute_result"
    }
   ],
   "source": [
    "y_train.shape"
   ]
  },
  {
   "cell_type": "code",
   "execution_count": 41,
   "id": "4ef1fe0a-06e6-4572-9386-4c54ba1fa88c",
   "metadata": {},
   "outputs": [
    {
     "data": {
      "text/plain": [
       "(80,)"
      ]
     },
     "execution_count": 41,
     "metadata": {},
     "output_type": "execute_result"
    }
   ],
   "source": [
    "y_test.shape"
   ]
  },
  {
   "cell_type": "code",
   "execution_count": 42,
   "id": "250c57b9-6157-4785-8c9d-c7a67237b200",
   "metadata": {},
   "outputs": [],
   "source": [
    "from sklearn.preprocessing import StandardScaler\n",
    "sc = StandardScaler()\n",
    "sc.fit(x_train)\n",
    "x_train=sc.transform(x_train)\n",
    "x_test=sc.transform(x_test)"
   ]
  },
  {
   "cell_type": "markdown",
   "id": "e014ab94-5402-4da9-ab1a-bc371c50cebf",
   "metadata": {},
   "source": [
    "## Build Model\n",
    "\n",
    "## Logistic Regression"
   ]
  },
  {
   "cell_type": "code",
   "execution_count": 43,
   "id": "539025dc-9b01-4968-8018-71712707c10d",
   "metadata": {},
   "outputs": [
    {
     "name": "stdout",
     "output_type": "stream",
     "text": [
      "0.8875\n"
     ]
    }
   ],
   "source": [
    "from sklearn.linear_model import LogisticRegression\n",
    "classifier = LogisticRegression()\n",
    "classifier.fit(x_train,y_train)\n",
    "score = classifier.score(x_test, y_test)\n",
    "print(score)"
   ]
  },
  {
   "cell_type": "code",
   "execution_count": 44,
   "id": "4d3fd889-f3c4-4e99-8d18-b70efe54c399",
   "metadata": {},
   "outputs": [],
   "source": [
    "y_pred = classifier.predict(x_test)"
   ]
  },
  {
   "cell_type": "code",
   "execution_count": 45,
   "id": "432c124a-94aa-4d3f-9fb4-7238693500d6",
   "metadata": {},
   "outputs": [
    {
     "name": "stdout",
     "output_type": "stream",
     "text": [
      "Accuracy :  0.8875\n"
     ]
    }
   ],
   "source": [
    "from sklearn.metrics import accuracy_score\n",
    "print (\"Accuracy : \", accuracy_score(y_test, y_pred))"
   ]
  },
  {
   "cell_type": "code",
   "execution_count": null,
   "id": "a1f47d3c-ca16-4f2f-b55a-0a9cb0412d89",
   "metadata": {},
   "outputs": [],
   "source": []
  },
  {
   "cell_type": "code",
   "execution_count": null,
   "id": "b692126c-4f53-4fc3-9376-68f11b82c3a1",
   "metadata": {},
   "outputs": [],
   "source": []
  },
  {
   "cell_type": "code",
   "execution_count": null,
   "id": "06931da9-a21a-4dc4-83ec-51a0bb021e56",
   "metadata": {},
   "outputs": [],
   "source": []
  },
  {
   "cell_type": "code",
   "execution_count": null,
   "id": "90cacf74-6c71-4a04-816b-eea16b8c2130",
   "metadata": {},
   "outputs": [],
   "source": []
  },
  {
   "cell_type": "code",
   "execution_count": 46,
   "id": "e45d39cc-a337-4438-848f-049c0f621866",
   "metadata": {},
   "outputs": [
    {
     "data": {
      "text/plain": [
       "0      0\n",
       "1      0\n",
       "2      0\n",
       "3      0\n",
       "4      0\n",
       "      ..\n",
       "395    1\n",
       "396    1\n",
       "397    1\n",
       "398    0\n",
       "399    1\n",
       "Name: Purchased, Length: 400, dtype: int64"
      ]
     },
     "execution_count": 46,
     "metadata": {},
     "output_type": "execute_result"
    }
   ],
   "source": [
    "df['Purchased']"
   ]
  },
  {
   "cell_type": "code",
   "execution_count": 47,
   "id": "25bcd2b9-415f-4b0c-a0c7-f411efd8faaa",
   "metadata": {},
   "outputs": [
    {
     "data": {
      "text/plain": [
       "array([[ 1.41421356, -0.83481207, -1.14676436],\n",
       "       [-0.70710678, -0.57118721, -0.14334554],\n",
       "       [-0.70710678,  1.40599928,  1.2901099 ]])"
      ]
     },
     "execution_count": 47,
     "metadata": {},
     "output_type": "execute_result"
    }
   ],
   "source": [
    "x_sample = np.array([[1,23,19000],[0,25,40000],[0,40,70000]])\n",
    "sc.fit(x_sample)\n",
    "x_sample = sc.transform(x_sample)\n",
    "x_sample"
   ]
  },
  {
   "cell_type": "code",
   "execution_count": 48,
   "id": "b1474e2c-b15e-4725-b9a4-097e37b2836d",
   "metadata": {},
   "outputs": [
    {
     "data": {
      "text/plain": [
       "array([0, 0, 1])"
      ]
     },
     "execution_count": 48,
     "metadata": {},
     "output_type": "execute_result"
    }
   ],
   "source": [
    "classifier.predict(x_sample)"
   ]
  },
  {
   "cell_type": "markdown",
   "id": "4851e5f0-b3c7-4425-a25a-1b7f52a8979c",
   "metadata": {},
   "source": [
    "## Save Model "
   ]
  },
  {
   "cell_type": "markdown",
   "id": "cc74144d-bb11-4daa-8df9-0193ab92044c",
   "metadata": {},
   "source": [
    "##  Save a Machine Learning Model"
   ]
  },
  {
   "cell_type": "markdown",
   "id": "e32ef917-c59d-49fa-9cdb-6b90b457c962",
   "metadata": {},
   "source": [
    "## Pickle "
   ]
  },
  {
   "cell_type": "code",
   "execution_count": 49,
   "id": "f70f41c5-9884-40ee-abe4-64040cfcc80d",
   "metadata": {},
   "outputs": [],
   "source": [
    "import pickle \n",
    "pickle.dump(classifier , open('model_save' , 'wb'))\n"
   ]
  },
  {
   "cell_type": "code",
   "execution_count": 50,
   "id": "b051410b-3e9a-4317-8226-b98e9cc4c10a",
   "metadata": {},
   "outputs": [],
   "source": [
    "model = pickle.load(open('model_save' , 'rb'))"
   ]
  },
  {
   "cell_type": "code",
   "execution_count": 51,
   "id": "97f28a62-ebed-478d-8c37-14fce595d262",
   "metadata": {},
   "outputs": [
    {
     "data": {
      "text/plain": [
       "array([0, 0, 1])"
      ]
     },
     "execution_count": 51,
     "metadata": {},
     "output_type": "execute_result"
    }
   ],
   "source": [
    "model.predict(x_sample)"
   ]
  },
  {
   "cell_type": "code",
   "execution_count": null,
   "id": "fe0dd071-111c-45b2-b7e0-93347484ade5",
   "metadata": {},
   "outputs": [],
   "source": []
  },
  {
   "cell_type": "markdown",
   "id": "ac693c6f-1637-4e67-b2ee-7d11d0ee854d",
   "metadata": {},
   "source": [
    "## Joblib "
   ]
  },
  {
   "cell_type": "code",
   "execution_count": 52,
   "id": "dee794be-4ecf-4393-97d9-62c6f4ddfc89",
   "metadata": {},
   "outputs": [],
   "source": [
    "import joblib"
   ]
  },
  {
   "cell_type": "code",
   "execution_count": 53,
   "id": "e55db2a5-d527-4932-b875-b8cf78f5cb6d",
   "metadata": {},
   "outputs": [
    {
     "data": {
      "text/plain": [
       "['model_save2']"
      ]
     },
     "execution_count": 53,
     "metadata": {},
     "output_type": "execute_result"
    }
   ],
   "source": [
    "joblib.dump(classifier , 'model_save2')"
   ]
  },
  {
   "cell_type": "code",
   "execution_count": 54,
   "id": "33c6c22b-ae6c-4981-b9ec-603d2347f8f8",
   "metadata": {},
   "outputs": [],
   "source": [
    "model2 = joblib.load('model_save2')"
   ]
  },
  {
   "cell_type": "code",
   "execution_count": 55,
   "id": "d1779848-47a2-41f9-8850-dfd77893553b",
   "metadata": {},
   "outputs": [
    {
     "data": {
      "text/plain": [
       "array([0, 0, 1])"
      ]
     },
     "execution_count": 55,
     "metadata": {},
     "output_type": "execute_result"
    }
   ],
   "source": [
    "model2.predict(x_sample)"
   ]
  },
  {
   "cell_type": "code",
   "execution_count": null,
   "id": "5aa3b487-6254-4259-8fbb-daf99ac5f9c9",
   "metadata": {},
   "outputs": [],
   "source": []
  },
  {
   "cell_type": "code",
   "execution_count": null,
   "id": "5a2fa976-e622-4f5d-bc42-5dd5190ea6f5",
   "metadata": {},
   "outputs": [],
   "source": []
  }
 ],
 "metadata": {
  "kernelspec": {
   "display_name": "Python 3 (ipykernel)",
   "language": "python",
   "name": "python3"
  },
  "language_info": {
   "codemirror_mode": {
    "name": "ipython",
    "version": 3
   },
   "file_extension": ".py",
   "mimetype": "text/x-python",
   "name": "python",
   "nbconvert_exporter": "python",
   "pygments_lexer": "ipython3",
   "version": "3.10.6"
  }
 },
 "nbformat": 4,
 "nbformat_minor": 5
}
